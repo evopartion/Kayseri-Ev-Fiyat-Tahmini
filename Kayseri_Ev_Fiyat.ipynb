{
 "cells": [
  {
   "cell_type": "code",
   "execution_count": 2,
   "id": "4b8a3a72-9b67-4477-bdf0-966660d1302b",
   "metadata": {},
   "outputs": [],
   "source": [
    "# lİNEER REGRESYON\n",
    "\n",
    "# Denklem: y= mx + b\n",
    "\n",
    "# y --> Bağımlı değişken (Fiyat) (Tahmin etmek istediğimiz veri)\n",
    "\n",
    "# x --> Bağımsız değişken (Konum,Boyut) (Tahmin etmemizi sağlayan diğer veriler)\n",
    "\n",
    "# m --> Bağımsız değişken katsayısı (Location*x + Size*x) (Her değişkenin, fiyata etkisi aynı değildir)\n",
    "\n",
    "# b --> Sabit"
   ]
  },
  {
   "cell_type": "code",
   "execution_count": 4,
   "id": "68a9e7b1-c449-4e42-ba80-a5aa9a5c5aa7",
   "metadata": {},
   "outputs": [],
   "source": [
    "from sklearn.linear_model import LinearRegression\n",
    "import pandas as pd"
   ]
  },
  {
   "cell_type": "code",
   "execution_count": 6,
   "id": "8166ead3-d1b2-4b7c-a739-9393814363f3",
   "metadata": {},
   "outputs": [],
   "source": [
    "df=pd.read_csv(\"house_data.csv\")"
   ]
  },
  {
   "cell_type": "code",
   "execution_count": 12,
   "id": "a5f14751-543f-423f-ae96-fbfa8a081ba3",
   "metadata": {},
   "outputs": [
    {
     "data": {
      "text/html": [
       "<div>\n",
       "<style scoped>\n",
       "    .dataframe tbody tr th:only-of-type {\n",
       "        vertical-align: middle;\n",
       "    }\n",
       "\n",
       "    .dataframe tbody tr th {\n",
       "        vertical-align: top;\n",
       "    }\n",
       "\n",
       "    .dataframe thead th {\n",
       "        text-align: right;\n",
       "    }\n",
       "</style>\n",
       "<table border=\"1\" class=\"dataframe\">\n",
       "  <thead>\n",
       "    <tr style=\"text-align: right;\">\n",
       "      <th></th>\n",
       "      <th>Price</th>\n",
       "      <th>Location</th>\n",
       "      <th>Size</th>\n",
       "    </tr>\n",
       "  </thead>\n",
       "  <tbody>\n",
       "    <tr>\n",
       "      <th>0</th>\n",
       "      <td>8500000</td>\n",
       "      <td>melikgazi</td>\n",
       "      <td>290</td>\n",
       "    </tr>\n",
       "    <tr>\n",
       "      <th>1</th>\n",
       "      <td>4700000</td>\n",
       "      <td>melikgazi</td>\n",
       "      <td>240</td>\n",
       "    </tr>\n",
       "    <tr>\n",
       "      <th>2</th>\n",
       "      <td>2700000</td>\n",
       "      <td>talas</td>\n",
       "      <td>175</td>\n",
       "    </tr>\n",
       "    <tr>\n",
       "      <th>3</th>\n",
       "      <td>6800000</td>\n",
       "      <td>kocasinan</td>\n",
       "      <td>260</td>\n",
       "    </tr>\n",
       "    <tr>\n",
       "      <th>4</th>\n",
       "      <td>3600000</td>\n",
       "      <td>melikgazi</td>\n",
       "      <td>180</td>\n",
       "    </tr>\n",
       "    <tr>\n",
       "      <th>...</th>\n",
       "      <td>...</td>\n",
       "      <td>...</td>\n",
       "      <td>...</td>\n",
       "    </tr>\n",
       "    <tr>\n",
       "      <th>205</th>\n",
       "      <td>1790000</td>\n",
       "      <td>kocasinan</td>\n",
       "      <td>140</td>\n",
       "    </tr>\n",
       "    <tr>\n",
       "      <th>206</th>\n",
       "      <td>1690000</td>\n",
       "      <td>kocasinan</td>\n",
       "      <td>130</td>\n",
       "    </tr>\n",
       "    <tr>\n",
       "      <th>207</th>\n",
       "      <td>1375000</td>\n",
       "      <td>melikgazi</td>\n",
       "      <td>110</td>\n",
       "    </tr>\n",
       "    <tr>\n",
       "      <th>208</th>\n",
       "      <td>1340000</td>\n",
       "      <td>melikgazi</td>\n",
       "      <td>110</td>\n",
       "    </tr>\n",
       "    <tr>\n",
       "      <th>209</th>\n",
       "      <td>2295000</td>\n",
       "      <td>develi</td>\n",
       "      <td>165</td>\n",
       "    </tr>\n",
       "  </tbody>\n",
       "</table>\n",
       "<p>210 rows × 3 columns</p>\n",
       "</div>"
      ],
      "text/plain": [
       "       Price   Location  Size\n",
       "0    8500000  melikgazi   290\n",
       "1    4700000  melikgazi   240\n",
       "2    2700000      talas   175\n",
       "3    6800000  kocasinan   260\n",
       "4    3600000  melikgazi   180\n",
       "..       ...        ...   ...\n",
       "205  1790000  kocasinan   140\n",
       "206  1690000  kocasinan   130\n",
       "207  1375000  melikgazi   110\n",
       "208  1340000  melikgazi   110\n",
       "209  2295000     develi   165\n",
       "\n",
       "[210 rows x 3 columns]"
      ]
     },
     "execution_count": 12,
     "metadata": {},
     "output_type": "execute_result"
    }
   ],
   "source": [
    "df"
   ]
  },
  {
   "cell_type": "code",
   "execution_count": 8,
   "id": "4c0900c9-122f-4a1a-94b1-49e334f38b3c",
   "metadata": {},
   "outputs": [
    {
     "data": {
      "text/plain": [
       "Size\n",
       "175    24\n",
       "150    18\n",
       "165    17\n",
       "140    14\n",
       "110    11\n",
       "160     9\n",
       "135     9\n",
       "120     8\n",
       "185     8\n",
       "170     8\n",
       "155     8\n",
       "180     7\n",
       "200     7\n",
       "145     7\n",
       "100     6\n",
       "130     6\n",
       "125     5\n",
       "210     3\n",
       "65      2\n",
       "220     2\n",
       "250     2\n",
       "240     2\n",
       "290     2\n",
       "115     2\n",
       "230     2\n",
       "300     1\n",
       "80      1\n",
       "260     1\n",
       "248     1\n",
       "45      1\n",
       "330     1\n",
       "193     1\n",
       "286     1\n",
       "105     1\n",
       "190     1\n",
       "187     1\n",
       "195     1\n",
       "90      1\n",
       "75      1\n",
       "85      1\n",
       "176     1\n",
       "157     1\n",
       "95      1\n",
       "168     1\n",
       "420     1\n",
       "550     1\n",
       "Name: count, dtype: int64"
      ]
     },
     "execution_count": 8,
     "metadata": {},
     "output_type": "execute_result"
    }
   ],
   "source": [
    "df.Size.value_counts() #Hangi boyutlarda daha çok veri var"
   ]
  },
  {
   "cell_type": "code",
   "execution_count": 24,
   "id": "f0125284-d570-430d-b01e-48db89b2597d",
   "metadata": {},
   "outputs": [
    {
     "data": {
      "text/plain": [
       "Location_develi\n",
       "False    182\n",
       "True      28\n",
       "Name: count, dtype: int64"
      ]
     },
     "execution_count": 24,
     "metadata": {},
     "output_type": "execute_result"
    }
   ],
   "source": [
    "df.Location_develi.value_counts() #Hangi ilçede kaç veri var"
   ]
  },
  {
   "cell_type": "code",
   "execution_count": 26,
   "id": "69261cc6-7e9e-4ebd-bda5-d6f5d0725175",
   "metadata": {},
   "outputs": [
    {
     "data": {
      "text/plain": [
       "Location_hacılar\n",
       "False    209\n",
       "True       1\n",
       "Name: count, dtype: int64"
      ]
     },
     "execution_count": 26,
     "metadata": {},
     "output_type": "execute_result"
    }
   ],
   "source": [
    "df.Location_hacılar.value_counts()"
   ]
  },
  {
   "cell_type": "code",
   "execution_count": 28,
   "id": "ccfc9bfa-ee55-4fdb-8eb4-b3dcc4e0f76a",
   "metadata": {},
   "outputs": [
    {
     "data": {
      "text/plain": [
       "Location_i̇ncesu\n",
       "False    207\n",
       "True       3\n",
       "Name: count, dtype: int64"
      ]
     },
     "execution_count": 28,
     "metadata": {},
     "output_type": "execute_result"
    }
   ],
   "source": [
    "df.Location_i̇ncesu.value_counts()"
   ]
  },
  {
   "cell_type": "code",
   "execution_count": 30,
   "id": "be30d1dd-c541-4d01-8c80-c1e8294da604",
   "metadata": {},
   "outputs": [
    {
     "data": {
      "text/plain": [
       "Location_kocasinan\n",
       "False    141\n",
       "True      69\n",
       "Name: count, dtype: int64"
      ]
     },
     "execution_count": 30,
     "metadata": {},
     "output_type": "execute_result"
    }
   ],
   "source": [
    "df.Location_kocasinan.value_counts()"
   ]
  },
  {
   "cell_type": "code",
   "execution_count": 32,
   "id": "423ff517-ac5f-40eb-97d6-fab73cdfaecd",
   "metadata": {},
   "outputs": [
    {
     "data": {
      "text/plain": [
       "Location_melikgazi\n",
       "False    123\n",
       "True      87\n",
       "Name: count, dtype: int64"
      ]
     },
     "execution_count": 32,
     "metadata": {},
     "output_type": "execute_result"
    }
   ],
   "source": [
    "df.Location_melikgazi.value_counts()"
   ]
  },
  {
   "cell_type": "code",
   "execution_count": 34,
   "id": "24537fd5-8217-49be-922b-a7fd05c71439",
   "metadata": {},
   "outputs": [
    {
     "data": {
      "text/plain": [
       "Location_talas\n",
       "False    189\n",
       "True      21\n",
       "Name: count, dtype: int64"
      ]
     },
     "execution_count": 34,
     "metadata": {},
     "output_type": "execute_result"
    }
   ],
   "source": [
    "df.Location_talas.value_counts()"
   ]
  },
  {
   "cell_type": "code",
   "execution_count": 36,
   "id": "84d880f0-1df0-4638-9a35-271017cd5953",
   "metadata": {},
   "outputs": [
    {
     "data": {
      "text/plain": [
       "Location_yahyalı\n",
       "False    209\n",
       "True       1\n",
       "Name: count, dtype: int64"
      ]
     },
     "execution_count": 36,
     "metadata": {},
     "output_type": "execute_result"
    }
   ],
   "source": [
    "df.Location_yahyalı.value_counts()"
   ]
  },
  {
   "cell_type": "code",
   "execution_count": 38,
   "id": "8ad9c10c-aad6-4f5c-ba0e-0a751fec6805",
   "metadata": {},
   "outputs": [
    {
     "name": "stdout",
     "output_type": "stream",
     "text": [
      "<class 'pandas.core.frame.DataFrame'>\n",
      "RangeIndex: 210 entries, 0 to 209\n",
      "Data columns (total 9 columns):\n",
      " #   Column              Non-Null Count  Dtype\n",
      "---  ------              --------------  -----\n",
      " 0   Price               210 non-null    int64\n",
      " 1   Size                210 non-null    int64\n",
      " 2   Location_develi     210 non-null    bool \n",
      " 3   Location_hacılar    210 non-null    bool \n",
      " 4   Location_i̇ncesu    210 non-null    bool \n",
      " 5   Location_kocasinan  210 non-null    bool \n",
      " 6   Location_melikgazi  210 non-null    bool \n",
      " 7   Location_talas      210 non-null    bool \n",
      " 8   Location_yahyalı    210 non-null    bool \n",
      "dtypes: bool(7), int64(2)\n",
      "memory usage: 4.8 KB\n"
     ]
    }
   ],
   "source": [
    "df.info() #String veri kontrolü"
   ]
  },
  {
   "cell_type": "code",
   "execution_count": 10,
   "id": "e75b321e-5fd8-4a64-baac-3dc2fb6e00f9",
   "metadata": {},
   "outputs": [],
   "source": [
    "df=pd.get_dummies(df,columns=['Location'])  #Nümerik olmayan sütunları sayıya çevir"
   ]
  },
  {
   "cell_type": "code",
   "execution_count": 31,
   "id": "c8280934-c0cc-4153-8966-d9b1751a6aa2",
   "metadata": {},
   "outputs": [
    {
     "name": "stdout",
     "output_type": "stream",
     "text": [
      "<class 'pandas.core.frame.DataFrame'>\n",
      "RangeIndex: 210 entries, 0 to 209\n",
      "Data columns (total 9 columns):\n",
      " #   Column              Non-Null Count  Dtype\n",
      "---  ------              --------------  -----\n",
      " 0   Price               210 non-null    int64\n",
      " 1   Size                210 non-null    int64\n",
      " 2   Location_develi     210 non-null    bool \n",
      " 3   Location_hacılar    210 non-null    bool \n",
      " 4   Location_i̇ncesu    210 non-null    bool \n",
      " 5   Location_kocasinan  210 non-null    bool \n",
      " 6   Location_melikgazi  210 non-null    bool \n",
      " 7   Location_talas      210 non-null    bool \n",
      " 8   Location_yahyalı    210 non-null    bool \n",
      "dtypes: bool(7), int64(2)\n",
      "memory usage: 4.8 KB\n"
     ]
    }
   ],
   "source": [
    "df.info()"
   ]
  },
  {
   "cell_type": "code",
   "execution_count": 22,
   "id": "a88b5c45-51c5-46a2-b9b5-6a0c63b3473e",
   "metadata": {},
   "outputs": [
    {
     "data": {
      "text/html": [
       "<div>\n",
       "<style scoped>\n",
       "    .dataframe tbody tr th:only-of-type {\n",
       "        vertical-align: middle;\n",
       "    }\n",
       "\n",
       "    .dataframe tbody tr th {\n",
       "        vertical-align: top;\n",
       "    }\n",
       "\n",
       "    .dataframe thead th {\n",
       "        text-align: right;\n",
       "    }\n",
       "</style>\n",
       "<table border=\"1\" class=\"dataframe\">\n",
       "  <thead>\n",
       "    <tr style=\"text-align: right;\">\n",
       "      <th></th>\n",
       "      <th>Price</th>\n",
       "      <th>Size</th>\n",
       "      <th>Location_develi</th>\n",
       "      <th>Location_hacılar</th>\n",
       "      <th>Location_i̇ncesu</th>\n",
       "      <th>Location_kocasinan</th>\n",
       "      <th>Location_melikgazi</th>\n",
       "      <th>Location_talas</th>\n",
       "      <th>Location_yahyalı</th>\n",
       "    </tr>\n",
       "  </thead>\n",
       "  <tbody>\n",
       "    <tr>\n",
       "      <th>0</th>\n",
       "      <td>8500000</td>\n",
       "      <td>290</td>\n",
       "      <td>False</td>\n",
       "      <td>False</td>\n",
       "      <td>False</td>\n",
       "      <td>False</td>\n",
       "      <td>True</td>\n",
       "      <td>False</td>\n",
       "      <td>False</td>\n",
       "    </tr>\n",
       "    <tr>\n",
       "      <th>1</th>\n",
       "      <td>4700000</td>\n",
       "      <td>240</td>\n",
       "      <td>False</td>\n",
       "      <td>False</td>\n",
       "      <td>False</td>\n",
       "      <td>False</td>\n",
       "      <td>True</td>\n",
       "      <td>False</td>\n",
       "      <td>False</td>\n",
       "    </tr>\n",
       "    <tr>\n",
       "      <th>2</th>\n",
       "      <td>2700000</td>\n",
       "      <td>175</td>\n",
       "      <td>False</td>\n",
       "      <td>False</td>\n",
       "      <td>False</td>\n",
       "      <td>False</td>\n",
       "      <td>False</td>\n",
       "      <td>True</td>\n",
       "      <td>False</td>\n",
       "    </tr>\n",
       "    <tr>\n",
       "      <th>3</th>\n",
       "      <td>6800000</td>\n",
       "      <td>260</td>\n",
       "      <td>False</td>\n",
       "      <td>False</td>\n",
       "      <td>False</td>\n",
       "      <td>True</td>\n",
       "      <td>False</td>\n",
       "      <td>False</td>\n",
       "      <td>False</td>\n",
       "    </tr>\n",
       "    <tr>\n",
       "      <th>4</th>\n",
       "      <td>3600000</td>\n",
       "      <td>180</td>\n",
       "      <td>False</td>\n",
       "      <td>False</td>\n",
       "      <td>False</td>\n",
       "      <td>False</td>\n",
       "      <td>True</td>\n",
       "      <td>False</td>\n",
       "      <td>False</td>\n",
       "    </tr>\n",
       "    <tr>\n",
       "      <th>...</th>\n",
       "      <td>...</td>\n",
       "      <td>...</td>\n",
       "      <td>...</td>\n",
       "      <td>...</td>\n",
       "      <td>...</td>\n",
       "      <td>...</td>\n",
       "      <td>...</td>\n",
       "      <td>...</td>\n",
       "      <td>...</td>\n",
       "    </tr>\n",
       "    <tr>\n",
       "      <th>205</th>\n",
       "      <td>1790000</td>\n",
       "      <td>140</td>\n",
       "      <td>False</td>\n",
       "      <td>False</td>\n",
       "      <td>False</td>\n",
       "      <td>True</td>\n",
       "      <td>False</td>\n",
       "      <td>False</td>\n",
       "      <td>False</td>\n",
       "    </tr>\n",
       "    <tr>\n",
       "      <th>206</th>\n",
       "      <td>1690000</td>\n",
       "      <td>130</td>\n",
       "      <td>False</td>\n",
       "      <td>False</td>\n",
       "      <td>False</td>\n",
       "      <td>True</td>\n",
       "      <td>False</td>\n",
       "      <td>False</td>\n",
       "      <td>False</td>\n",
       "    </tr>\n",
       "    <tr>\n",
       "      <th>207</th>\n",
       "      <td>1375000</td>\n",
       "      <td>110</td>\n",
       "      <td>False</td>\n",
       "      <td>False</td>\n",
       "      <td>False</td>\n",
       "      <td>False</td>\n",
       "      <td>True</td>\n",
       "      <td>False</td>\n",
       "      <td>False</td>\n",
       "    </tr>\n",
       "    <tr>\n",
       "      <th>208</th>\n",
       "      <td>1340000</td>\n",
       "      <td>110</td>\n",
       "      <td>False</td>\n",
       "      <td>False</td>\n",
       "      <td>False</td>\n",
       "      <td>False</td>\n",
       "      <td>True</td>\n",
       "      <td>False</td>\n",
       "      <td>False</td>\n",
       "    </tr>\n",
       "    <tr>\n",
       "      <th>209</th>\n",
       "      <td>2295000</td>\n",
       "      <td>165</td>\n",
       "      <td>True</td>\n",
       "      <td>False</td>\n",
       "      <td>False</td>\n",
       "      <td>False</td>\n",
       "      <td>False</td>\n",
       "      <td>False</td>\n",
       "      <td>False</td>\n",
       "    </tr>\n",
       "  </tbody>\n",
       "</table>\n",
       "<p>210 rows × 9 columns</p>\n",
       "</div>"
      ],
      "text/plain": [
       "       Price  Size  Location_develi  Location_hacılar  Location_i̇ncesu  \\\n",
       "0    8500000   290            False             False             False   \n",
       "1    4700000   240            False             False             False   \n",
       "2    2700000   175            False             False             False   \n",
       "3    6800000   260            False             False             False   \n",
       "4    3600000   180            False             False             False   \n",
       "..       ...   ...              ...               ...               ...   \n",
       "205  1790000   140            False             False             False   \n",
       "206  1690000   130            False             False             False   \n",
       "207  1375000   110            False             False             False   \n",
       "208  1340000   110            False             False             False   \n",
       "209  2295000   165             True             False             False   \n",
       "\n",
       "     Location_kocasinan  Location_melikgazi  Location_talas  Location_yahyalı  \n",
       "0                 False                True           False             False  \n",
       "1                 False                True           False             False  \n",
       "2                 False               False            True             False  \n",
       "3                  True               False           False             False  \n",
       "4                 False                True           False             False  \n",
       "..                  ...                 ...             ...               ...  \n",
       "205                True               False           False             False  \n",
       "206                True               False           False             False  \n",
       "207               False                True           False             False  \n",
       "208               False                True           False             False  \n",
       "209               False               False           False             False  \n",
       "\n",
       "[210 rows x 9 columns]"
      ]
     },
     "execution_count": 22,
     "metadata": {},
     "output_type": "execute_result"
    }
   ],
   "source": [
    "df"
   ]
  },
  {
   "cell_type": "code",
   "execution_count": 35,
   "id": "e5c1fad5-d1f9-43e7-8a00-91a390b9bfaa",
   "metadata": {},
   "outputs": [
    {
     "name": "stdout",
     "output_type": "stream",
     "text": [
      "<class 'pandas.core.frame.DataFrame'>\n",
      "RangeIndex: 210 entries, 0 to 209\n",
      "Data columns (total 9 columns):\n",
      " #   Column              Non-Null Count  Dtype\n",
      "---  ------              --------------  -----\n",
      " 0   Price               210 non-null    int64\n",
      " 1   Size                210 non-null    int64\n",
      " 2   Location_develi     210 non-null    bool \n",
      " 3   Location_hacılar    210 non-null    bool \n",
      " 4   Location_i̇ncesu    210 non-null    bool \n",
      " 5   Location_kocasinan  210 non-null    bool \n",
      " 6   Location_melikgazi  210 non-null    bool \n",
      " 7   Location_talas      210 non-null    bool \n",
      " 8   Location_yahyalı    210 non-null    bool \n",
      "dtypes: bool(7), int64(2)\n",
      "memory usage: 4.8 KB\n"
     ]
    }
   ],
   "source": [
    "df.info()"
   ]
  },
  {
   "cell_type": "code",
   "execution_count": 12,
   "id": "b95f89c0-cf0b-47e8-94bb-d0bd696e70bf",
   "metadata": {},
   "outputs": [],
   "source": [
    "y=df[[\"Price\"]]\n",
    "x=df[[\"Size\",\"Location_develi\",\"Location_hacılar\",\"Location_i̇ncesu\",\"Location_kocasinan\",\"Location_melikgazi\",\"Location_talas\",\"Location_yahyalı\"]]"
   ]
  },
  {
   "cell_type": "code",
   "execution_count": 14,
   "id": "45dcfecb-b365-46bb-bd38-595196b745f2",
   "metadata": {},
   "outputs": [],
   "source": [
    "l=LinearRegression()\n",
    "model=l.fit(x,y)"
   ]
  },
  {
   "cell_type": "code",
   "execution_count": 16,
   "id": "4999339e-237c-4722-a7d3-5fadf0d345ee",
   "metadata": {},
   "outputs": [
    {
     "name": "stdout",
     "output_type": "stream",
     "text": [
      "Develide 120 m² bir evin tahmini fiyatı:  [[1775005.45655208]]\n"
     ]
    },
    {
     "name": "stderr",
     "output_type": "stream",
     "text": [
      "C:\\Users\\EvopaRTion\\anaconda3\\Lib\\site-packages\\sklearn\\base.py:464: UserWarning: X does not have valid feature names, but LinearRegression was fitted with feature names\n",
      "  warnings.warn(\n"
     ]
    }
   ],
   "source": [
    "#DEVELİ\n",
    "develi_tahmin=[120,1,0,0,0,0,0,0]\n",
    "develi=model.predict([develi_tahmin])\n",
    "print(\"Develide\",develi_tahmin[0],\"m² bir evin tahmini fiyatı: \",develi)"
   ]
  },
  {
   "cell_type": "code",
   "execution_count": 34,
   "id": "7eba9689-68f1-4a18-a4bf-edb12a58e816",
   "metadata": {},
   "outputs": [
    {
     "name": "stdout",
     "output_type": "stream",
     "text": [
      "Hacılarda 100 m² bir evin tahmini fiyatı:  [[7382656.00575663]]\n"
     ]
    },
    {
     "name": "stderr",
     "output_type": "stream",
     "text": [
      "C:\\Users\\EvopaRTion\\anaconda3\\Lib\\site-packages\\sklearn\\base.py:464: UserWarning: X does not have valid feature names, but LinearRegression was fitted with feature names\n",
      "  warnings.warn(\n"
     ]
    }
   ],
   "source": [
    "#HACILAR\n",
    "hacilar_tahmin=[100,0,1,0,0,0,0,0]\n",
    "hacilar=model.predict([hacilar_tahmin])\n",
    "print(\"Hacılarda\",hacilar_tahmin[0],\"m² bir evin tahmini fiyatı: \",hacilar)"
   ]
  },
  {
   "cell_type": "code",
   "execution_count": 50,
   "id": "6f926e8c-9468-4235-944c-3611df4e749e",
   "metadata": {},
   "outputs": [
    {
     "name": "stdout",
     "output_type": "stream",
     "text": [
      "İncesuda 120 m² bir evin tahmini fiyatı:  [[1311458.24763391]]\n"
     ]
    },
    {
     "name": "stderr",
     "output_type": "stream",
     "text": [
      "C:\\Users\\EvopaRTion\\anaconda3\\Lib\\site-packages\\sklearn\\base.py:464: UserWarning: X does not have valid feature names, but LinearRegression was fitted with feature names\n",
      "  warnings.warn(\n"
     ]
    }
   ],
   "source": [
    "#İNCESU\n",
    "incesu_tahmin=[120,0,0,1,0,0,0,0]\n",
    "incesu=model.predict([incesu_tahmin])\n",
    "print(\"İncesuda\",incesu_tahmin[0],\"m² bir evin tahmini fiyatı: \",incesu)"
   ]
  },
  {
   "cell_type": "code",
   "execution_count": 28,
   "id": "8129657a-f54e-4af7-b25b-144e70265588",
   "metadata": {},
   "outputs": [
    {
     "name": "stdout",
     "output_type": "stream",
     "text": [
      "Kocasinanda 220 m² bir evin tahmini fiyatı:  [[3267203.1489421]]\n"
     ]
    },
    {
     "name": "stderr",
     "output_type": "stream",
     "text": [
      "C:\\Users\\EvopaRTion\\anaconda3\\Lib\\site-packages\\sklearn\\base.py:464: UserWarning: X does not have valid feature names, but LinearRegression was fitted with feature names\n",
      "  warnings.warn(\n"
     ]
    }
   ],
   "source": [
    "#KOCASİNAN\n",
    "kocasinan_tahmin=[220,0,0,0,1,0,0,0]\n",
    "kocasinan=model.predict([kocasinan_tahmin])\n",
    "print(\"Kocasinanda\",kocasinan_tahmin[0],\"m² bir evin tahmini fiyatı: \",kocasinan)"
   ]
  },
  {
   "cell_type": "code",
   "execution_count": 62,
   "id": "b19f7713-eb38-4336-9b3e-732aedfc79e7",
   "metadata": {},
   "outputs": [
    {
     "name": "stdout",
     "output_type": "stream",
     "text": [
      "Melikgazide 120 m² bir evin tahmini fiyatı:  [[1580479.68686523]]\n"
     ]
    },
    {
     "name": "stderr",
     "output_type": "stream",
     "text": [
      "C:\\Users\\EvopaRTion\\anaconda3\\Lib\\site-packages\\sklearn\\base.py:464: UserWarning: X does not have valid feature names, but LinearRegression was fitted with feature names\n",
      "  warnings.warn(\n"
     ]
    }
   ],
   "source": [
    "#MELİKGAZİ\n",
    "melikgazi_tahmin=[120,0,0,0,0,1,0,0]\n",
    "melikgazi=model.predict([melikgazi_tahmin])\n",
    "print(\"Melikgazide\",melikgazi_tahmin[0],\"m² bir evin tahmini fiyatı: \",melikgazi)"
   ]
  },
  {
   "cell_type": "code",
   "execution_count": 70,
   "id": "82b37c65-4cb5-4c04-9452-4f1063d97367",
   "metadata": {},
   "outputs": [
    {
     "name": "stdout",
     "output_type": "stream",
     "text": [
      "Talasta 120 m² bir evin tahmini fiyatı:  [[1566477.49146101]]\n"
     ]
    },
    {
     "name": "stderr",
     "output_type": "stream",
     "text": [
      "C:\\Users\\EvopaRTion\\anaconda3\\Lib\\site-packages\\sklearn\\base.py:464: UserWarning: X does not have valid feature names, but LinearRegression was fitted with feature names\n",
      "  warnings.warn(\n"
     ]
    }
   ],
   "source": [
    "#TALAS\n",
    "talas_tahmin=[120,0,0,0,0,0,1,0]\n",
    "talas=model.predict([talas_tahmin])\n",
    "print(\"Talasta\",talas_tahmin[0],\"m² bir evin tahmini fiyatı: \",talas)"
   ]
  },
  {
   "cell_type": "code",
   "execution_count": 66,
   "id": "9b72c93e-7611-42c7-b5a3-8dcc7c94ea73",
   "metadata": {},
   "outputs": [
    {
     "name": "stdout",
     "output_type": "stream",
     "text": [
      "Yahyalıda 120 m² bir evin tahmini fiyatı:  [[1503124.91430058]]\n"
     ]
    },
    {
     "name": "stderr",
     "output_type": "stream",
     "text": [
      "C:\\Users\\EvopaRTion\\anaconda3\\Lib\\site-packages\\sklearn\\base.py:464: UserWarning: X does not have valid feature names, but LinearRegression was fitted with feature names\n",
      "  warnings.warn(\n"
     ]
    }
   ],
   "source": [
    "#YAHYALI\n",
    "yahyali_tahmin=[120,0,0,0,0,0,0,1]\n",
    "yahyali=model.predict([yahyali_tahmin])\n",
    "print(\"Yahyalıda\",yahyali_tahmin[0],\"m² bir evin tahmini fiyatı: \",yahyali)"
   ]
  },
  {
   "cell_type": "code",
   "execution_count": null,
   "id": "8fb36406-8a10-4655-ba69-d1ff14eccfe5",
   "metadata": {},
   "outputs": [],
   "source": []
  }
 ],
 "metadata": {
  "kernelspec": {
   "display_name": "Python 3 (ipykernel)",
   "language": "python",
   "name": "python3"
  },
  "language_info": {
   "codemirror_mode": {
    "name": "ipython",
    "version": 3
   },
   "file_extension": ".py",
   "mimetype": "text/x-python",
   "name": "python",
   "nbconvert_exporter": "python",
   "pygments_lexer": "ipython3",
   "version": "3.11.5"
  }
 },
 "nbformat": 4,
 "nbformat_minor": 5
}
